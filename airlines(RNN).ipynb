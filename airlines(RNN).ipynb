{
  "nbformat": 4,
  "nbformat_minor": 0,
  "metadata": {
    "colab": {
      "name": "airlines(RNN).ipynb",
      "provenance": []
    },
    "kernelspec": {
      "name": "python3",
      "display_name": "Python 3"
    },
    "language_info": {
      "name": "python"
    }
  },
  "cells": [
    {
      "cell_type": "code",
      "metadata": {
        "id": "Mo8C8jRCJPEG"
      },
      "source": [
        "import numpy as np\n",
        "import pandas as pd"
      ],
      "execution_count": 1,
      "outputs": []
    },
    {
      "cell_type": "code",
      "metadata": {
        "id": "32A0D5geJgd2"
      },
      "source": [
        "import matplotlib.pyplot as plt\n",
        "import seaborn as sns\n",
        "sns.set()"
      ],
      "execution_count": 41,
      "outputs": []
    },
    {
      "cell_type": "code",
      "metadata": {
        "colab": {
          "base_uri": "https://localhost:8080/"
        },
        "id": "TpUBZSEqJi0f",
        "outputId": "21b1c3f8-d867-428c-f2d2-38297703de72"
      },
      "source": [
        "# mount with google drive\n",
        "# from google.colab import drive\n",
        "# drive.mount('/content/drive')"
      ],
      "execution_count": 2,
      "outputs": [
        {
          "output_type": "stream",
          "name": "stdout",
          "text": [
            "Mounted at /content/drive\n"
          ]
        }
      ]
    },
    {
      "cell_type": "code",
      "metadata": {
        "colab": {
          "base_uri": "https://localhost:8080/",
          "height": 203
        },
        "id": "P-Y7nb7MJke0",
        "outputId": "6adf3d58-a84d-41d3-d133-09938c2746dc"
      },
      "source": [
        "data=pd.read_csv('/content/drive/MyDrive/M.L projects/Airlines(RNN)/AirPassengers.csv')\n",
        "data.head()"
      ],
      "execution_count": 9,
      "outputs": [
        {
          "output_type": "execute_result",
          "data": {
            "text/html": [
              "<div>\n",
              "<style scoped>\n",
              "    .dataframe tbody tr th:only-of-type {\n",
              "        vertical-align: middle;\n",
              "    }\n",
              "\n",
              "    .dataframe tbody tr th {\n",
              "        vertical-align: top;\n",
              "    }\n",
              "\n",
              "    .dataframe thead th {\n",
              "        text-align: right;\n",
              "    }\n",
              "</style>\n",
              "<table border=\"1\" class=\"dataframe\">\n",
              "  <thead>\n",
              "    <tr style=\"text-align: right;\">\n",
              "      <th></th>\n",
              "      <th>Month</th>\n",
              "      <th>#Passengers</th>\n",
              "    </tr>\n",
              "  </thead>\n",
              "  <tbody>\n",
              "    <tr>\n",
              "      <th>0</th>\n",
              "      <td>1949-01</td>\n",
              "      <td>112</td>\n",
              "    </tr>\n",
              "    <tr>\n",
              "      <th>1</th>\n",
              "      <td>1949-02</td>\n",
              "      <td>118</td>\n",
              "    </tr>\n",
              "    <tr>\n",
              "      <th>2</th>\n",
              "      <td>1949-03</td>\n",
              "      <td>132</td>\n",
              "    </tr>\n",
              "    <tr>\n",
              "      <th>3</th>\n",
              "      <td>1949-04</td>\n",
              "      <td>129</td>\n",
              "    </tr>\n",
              "    <tr>\n",
              "      <th>4</th>\n",
              "      <td>1949-05</td>\n",
              "      <td>121</td>\n",
              "    </tr>\n",
              "  </tbody>\n",
              "</table>\n",
              "</div>"
            ],
            "text/plain": [
              "     Month  #Passengers\n",
              "0  1949-01          112\n",
              "1  1949-02          118\n",
              "2  1949-03          132\n",
              "3  1949-04          129\n",
              "4  1949-05          121"
            ]
          },
          "metadata": {},
          "execution_count": 9
        }
      ]
    },
    {
      "cell_type": "code",
      "metadata": {
        "colab": {
          "base_uri": "https://localhost:8080/"
        },
        "id": "sG-K9iY7Leqg",
        "outputId": "35e2e053-45ec-4f44-9780-e5d25fc1b2cc"
      },
      "source": [
        "data.shape"
      ],
      "execution_count": 10,
      "outputs": [
        {
          "output_type": "execute_result",
          "data": {
            "text/plain": [
              "(144, 2)"
            ]
          },
          "metadata": {},
          "execution_count": 10
        }
      ]
    },
    {
      "cell_type": "code",
      "metadata": {
        "id": "MrMCTIwPLgtR"
      },
      "source": [
        "train=data['#Passengers'][:120]\n",
        "test=data['#Passengers'][120:]"
      ],
      "execution_count": 14,
      "outputs": []
    },
    {
      "cell_type": "code",
      "metadata": {
        "id": "IPtDZCFAMtTn"
      },
      "source": [
        "train=train.values\n",
        "test=test.values"
      ],
      "execution_count": 19,
      "outputs": []
    },
    {
      "cell_type": "code",
      "metadata": {
        "id": "feA4yIvRNHQH"
      },
      "source": [
        "train=np.reshape(train,(len(train),1))\n",
        "test=np.reshape(test,(len(test),1))"
      ],
      "execution_count": 24,
      "outputs": []
    },
    {
      "cell_type": "code",
      "metadata": {
        "id": "Nsw4iHioL96Y"
      },
      "source": [
        "from sklearn.preprocessing import MinMaxScaler\n",
        "sc=MinMaxScaler(feature_range=(0,1))\n",
        "train=sc.fit_transform(train)\n",
        "test=sc.transform(test)"
      ],
      "execution_count": 25,
      "outputs": []
    },
    {
      "cell_type": "code",
      "metadata": {
        "id": "yHyVQNh3MfKq"
      },
      "source": [
        "def create_dataset(data,k):\n",
        "  datax,datay=[],[]\n",
        "  for i in range(data.shape[0]-k):\n",
        "    x=data[i:i+k,0]\n",
        "    y=data[i+k,0]\n",
        "    datax.append(x)\n",
        "    datay.append(y)\n",
        "  return np.array(datax),np.array(datay)"
      ],
      "execution_count": 26,
      "outputs": []
    },
    {
      "cell_type": "code",
      "metadata": {
        "id": "rTa0-QC5NvWG"
      },
      "source": [
        "look_back=12\n",
        "train_x,train_y=create_dataset(train,look_back)\n",
        "test_x,test_y=create_dataset(test,look_back)"
      ],
      "execution_count": 28,
      "outputs": []
    },
    {
      "cell_type": "code",
      "metadata": {
        "colab": {
          "base_uri": "https://localhost:8080/"
        },
        "id": "CKhGpMppPMj2",
        "outputId": "ba23502e-b496-4e6e-e058-e30d4d840b3f"
      },
      "source": [
        "train_x.shape"
      ],
      "execution_count": 30,
      "outputs": [
        {
          "output_type": "execute_result",
          "data": {
            "text/plain": [
              "(108, 12)"
            ]
          },
          "metadata": {},
          "execution_count": 30
        }
      ]
    },
    {
      "cell_type": "code",
      "metadata": {
        "id": "i1C9DNGzOAwZ"
      },
      "source": [
        "# reshaping in 3-d \n",
        "train_x=np.reshape(train_x,(train_x.shape[0],train_x.shape[1],1))\n",
        "test_x=np.reshape(test_x,(test_x.shape[0],train_x.shape[1],1))"
      ],
      "execution_count": 33,
      "outputs": []
    },
    {
      "cell_type": "code",
      "metadata": {
        "id": "k_lU1gMjPIsH"
      },
      "source": [
        "import tensorflow as tf\n",
        "from tensorflow import keras\n",
        "from tensorflow.keras import layers\n",
        "# from  keras.models import Sequentials\n",
        "from keras.layers import SimpleRNN,Dense"
      ],
      "execution_count": 37,
      "outputs": []
    },
    {
      "cell_type": "code",
      "metadata": {
        "colab": {
          "base_uri": "https://localhost:8080/"
        },
        "id": "LCj99JvnPs9X",
        "outputId": "9789d327-de68-4902-ab58-5c5abf0601c8"
      },
      "source": [
        "model = tf.keras.Sequential()\n",
        "model.add(tf.keras.layers.SimpleRNN(4, input_shape=(look_back,1)))\n",
        "model.add(tf.keras.layers.Dense(1))\n",
        "model.compile(loss='mean_squared_error',optimizer='adam')\n",
        "model.fit(train_x,train_y,epochs=100,batch_size=1)"
      ],
      "execution_count": 38,
      "outputs": [
        {
          "output_type": "stream",
          "name": "stdout",
          "text": [
            "Epoch 1/100\n",
            "108/108 [==============================] - 1s 2ms/step - loss: 0.0345\n",
            "Epoch 2/100\n",
            "108/108 [==============================] - 0s 2ms/step - loss: 0.0147\n",
            "Epoch 3/100\n",
            "108/108 [==============================] - 0s 2ms/step - loss: 0.0127\n",
            "Epoch 4/100\n",
            "108/108 [==============================] - 0s 2ms/step - loss: 0.0111\n",
            "Epoch 5/100\n",
            "108/108 [==============================] - 0s 2ms/step - loss: 0.0098\n",
            "Epoch 6/100\n",
            "108/108 [==============================] - 0s 2ms/step - loss: 0.0092\n",
            "Epoch 7/100\n",
            "108/108 [==============================] - 0s 2ms/step - loss: 0.0087\n",
            "Epoch 8/100\n",
            "108/108 [==============================] - 0s 2ms/step - loss: 0.0079\n",
            "Epoch 9/100\n",
            "108/108 [==============================] - 0s 2ms/step - loss: 0.0079\n",
            "Epoch 10/100\n",
            "108/108 [==============================] - 0s 2ms/step - loss: 0.0073\n",
            "Epoch 11/100\n",
            "108/108 [==============================] - 0s 2ms/step - loss: 0.0072\n",
            "Epoch 12/100\n",
            "108/108 [==============================] - 0s 2ms/step - loss: 0.0067\n",
            "Epoch 13/100\n",
            "108/108 [==============================] - 0s 2ms/step - loss: 0.0065\n",
            "Epoch 14/100\n",
            "108/108 [==============================] - 0s 2ms/step - loss: 0.0064\n",
            "Epoch 15/100\n",
            "108/108 [==============================] - 0s 2ms/step - loss: 0.0059\n",
            "Epoch 16/100\n",
            "108/108 [==============================] - 0s 2ms/step - loss: 0.0060\n",
            "Epoch 17/100\n",
            "108/108 [==============================] - 0s 2ms/step - loss: 0.0058\n",
            "Epoch 18/100\n",
            "108/108 [==============================] - 0s 2ms/step - loss: 0.0056\n",
            "Epoch 19/100\n",
            "108/108 [==============================] - 0s 2ms/step - loss: 0.0058\n",
            "Epoch 20/100\n",
            "108/108 [==============================] - 0s 2ms/step - loss: 0.0054\n",
            "Epoch 21/100\n",
            "108/108 [==============================] - 0s 2ms/step - loss: 0.0052\n",
            "Epoch 22/100\n",
            "108/108 [==============================] - 0s 2ms/step - loss: 0.0051\n",
            "Epoch 23/100\n",
            "108/108 [==============================] - 0s 2ms/step - loss: 0.0051\n",
            "Epoch 24/100\n",
            "108/108 [==============================] - 0s 2ms/step - loss: 0.0050\n",
            "Epoch 25/100\n",
            "108/108 [==============================] - 0s 2ms/step - loss: 0.0050\n",
            "Epoch 26/100\n",
            "108/108 [==============================] - 0s 2ms/step - loss: 0.0045\n",
            "Epoch 27/100\n",
            "108/108 [==============================] - 0s 2ms/step - loss: 0.0045\n",
            "Epoch 28/100\n",
            "108/108 [==============================] - 0s 2ms/step - loss: 0.0045\n",
            "Epoch 29/100\n",
            "108/108 [==============================] - 0s 2ms/step - loss: 0.0042\n",
            "Epoch 30/100\n",
            "108/108 [==============================] - 0s 2ms/step - loss: 0.0043\n",
            "Epoch 31/100\n",
            "108/108 [==============================] - 0s 2ms/step - loss: 0.0042\n",
            "Epoch 32/100\n",
            "108/108 [==============================] - 0s 2ms/step - loss: 0.0041\n",
            "Epoch 33/100\n",
            "108/108 [==============================] - 0s 2ms/step - loss: 0.0040\n",
            "Epoch 34/100\n",
            "108/108 [==============================] - 0s 2ms/step - loss: 0.0040\n",
            "Epoch 35/100\n",
            "108/108 [==============================] - 0s 2ms/step - loss: 0.0039\n",
            "Epoch 36/100\n",
            "108/108 [==============================] - 0s 2ms/step - loss: 0.0041\n",
            "Epoch 37/100\n",
            "108/108 [==============================] - 0s 2ms/step - loss: 0.0039\n",
            "Epoch 38/100\n",
            "108/108 [==============================] - 0s 2ms/step - loss: 0.0035\n",
            "Epoch 39/100\n",
            "108/108 [==============================] - 0s 2ms/step - loss: 0.0036\n",
            "Epoch 40/100\n",
            "108/108 [==============================] - 0s 2ms/step - loss: 0.0035\n",
            "Epoch 41/100\n",
            "108/108 [==============================] - 0s 2ms/step - loss: 0.0033\n",
            "Epoch 42/100\n",
            "108/108 [==============================] - 0s 2ms/step - loss: 0.0033\n",
            "Epoch 43/100\n",
            "108/108 [==============================] - 0s 2ms/step - loss: 0.0034\n",
            "Epoch 44/100\n",
            "108/108 [==============================] - 0s 2ms/step - loss: 0.0031\n",
            "Epoch 45/100\n",
            "108/108 [==============================] - 0s 2ms/step - loss: 0.0029\n",
            "Epoch 46/100\n",
            "108/108 [==============================] - 0s 2ms/step - loss: 0.0029\n",
            "Epoch 47/100\n",
            "108/108 [==============================] - 0s 2ms/step - loss: 0.0028\n",
            "Epoch 48/100\n",
            "108/108 [==============================] - 0s 2ms/step - loss: 0.0026\n",
            "Epoch 49/100\n",
            "108/108 [==============================] - 0s 2ms/step - loss: 0.0025\n",
            "Epoch 50/100\n",
            "108/108 [==============================] - 0s 2ms/step - loss: 0.0023\n",
            "Epoch 51/100\n",
            "108/108 [==============================] - 0s 2ms/step - loss: 0.0024\n",
            "Epoch 52/100\n",
            "108/108 [==============================] - 0s 2ms/step - loss: 0.0025\n",
            "Epoch 53/100\n",
            "108/108 [==============================] - 0s 2ms/step - loss: 0.0022\n",
            "Epoch 54/100\n",
            "108/108 [==============================] - 0s 2ms/step - loss: 0.0020\n",
            "Epoch 55/100\n",
            "108/108 [==============================] - 0s 2ms/step - loss: 0.0017\n",
            "Epoch 56/100\n",
            "108/108 [==============================] - 0s 2ms/step - loss: 0.0019\n",
            "Epoch 57/100\n",
            "108/108 [==============================] - 0s 2ms/step - loss: 0.0020\n",
            "Epoch 58/100\n",
            "108/108 [==============================] - 0s 2ms/step - loss: 0.0018\n",
            "Epoch 59/100\n",
            "108/108 [==============================] - 0s 2ms/step - loss: 0.0021\n",
            "Epoch 60/100\n",
            "108/108 [==============================] - 0s 2ms/step - loss: 0.0018\n",
            "Epoch 61/100\n",
            "108/108 [==============================] - 0s 2ms/step - loss: 0.0018\n",
            "Epoch 62/100\n",
            "108/108 [==============================] - 0s 2ms/step - loss: 0.0017\n",
            "Epoch 63/100\n",
            "108/108 [==============================] - 0s 3ms/step - loss: 0.0017\n",
            "Epoch 64/100\n",
            "108/108 [==============================] - 0s 2ms/step - loss: 0.0016\n",
            "Epoch 65/100\n",
            "108/108 [==============================] - 0s 2ms/step - loss: 0.0018\n",
            "Epoch 66/100\n",
            "108/108 [==============================] - 0s 2ms/step - loss: 0.0017\n",
            "Epoch 67/100\n",
            "108/108 [==============================] - 0s 2ms/step - loss: 0.0015\n",
            "Epoch 68/100\n",
            "108/108 [==============================] - 0s 2ms/step - loss: 0.0015\n",
            "Epoch 69/100\n",
            "108/108 [==============================] - 0s 2ms/step - loss: 0.0016\n",
            "Epoch 70/100\n",
            "108/108 [==============================] - 0s 2ms/step - loss: 0.0014\n",
            "Epoch 71/100\n",
            "108/108 [==============================] - 0s 2ms/step - loss: 0.0014\n",
            "Epoch 72/100\n",
            "108/108 [==============================] - 0s 2ms/step - loss: 0.0016\n",
            "Epoch 73/100\n",
            "108/108 [==============================] - 0s 2ms/step - loss: 0.0017\n",
            "Epoch 74/100\n",
            "108/108 [==============================] - 0s 2ms/step - loss: 0.0013\n",
            "Epoch 75/100\n",
            "108/108 [==============================] - 0s 2ms/step - loss: 0.0015\n",
            "Epoch 76/100\n",
            "108/108 [==============================] - 0s 2ms/step - loss: 0.0015\n",
            "Epoch 77/100\n",
            "108/108 [==============================] - 0s 2ms/step - loss: 0.0016\n",
            "Epoch 78/100\n",
            "108/108 [==============================] - 0s 2ms/step - loss: 0.0014\n",
            "Epoch 79/100\n",
            "108/108 [==============================] - 0s 2ms/step - loss: 0.0015\n",
            "Epoch 80/100\n",
            "108/108 [==============================] - 0s 2ms/step - loss: 0.0019\n",
            "Epoch 81/100\n",
            "108/108 [==============================] - 0s 2ms/step - loss: 0.0012\n",
            "Epoch 82/100\n",
            "108/108 [==============================] - 0s 2ms/step - loss: 0.0014\n",
            "Epoch 83/100\n",
            "108/108 [==============================] - 0s 2ms/step - loss: 0.0013\n",
            "Epoch 84/100\n",
            "108/108 [==============================] - 0s 2ms/step - loss: 0.0014\n",
            "Epoch 85/100\n",
            "108/108 [==============================] - 0s 2ms/step - loss: 0.0014\n",
            "Epoch 86/100\n",
            "108/108 [==============================] - 0s 2ms/step - loss: 0.0014\n",
            "Epoch 87/100\n",
            "108/108 [==============================] - 0s 2ms/step - loss: 0.0016\n",
            "Epoch 88/100\n",
            "108/108 [==============================] - 0s 2ms/step - loss: 0.0012\n",
            "Epoch 89/100\n",
            "108/108 [==============================] - 0s 2ms/step - loss: 0.0014\n",
            "Epoch 90/100\n",
            "108/108 [==============================] - 0s 2ms/step - loss: 0.0013\n",
            "Epoch 91/100\n",
            "108/108 [==============================] - 0s 2ms/step - loss: 0.0013\n",
            "Epoch 92/100\n",
            "108/108 [==============================] - 0s 2ms/step - loss: 0.0012\n",
            "Epoch 93/100\n",
            "108/108 [==============================] - 0s 2ms/step - loss: 0.0014\n",
            "Epoch 94/100\n",
            "108/108 [==============================] - 0s 2ms/step - loss: 0.0013\n",
            "Epoch 95/100\n",
            "108/108 [==============================] - 0s 2ms/step - loss: 0.0013\n",
            "Epoch 96/100\n",
            "108/108 [==============================] - 0s 2ms/step - loss: 0.0014\n",
            "Epoch 97/100\n",
            "108/108 [==============================] - 0s 2ms/step - loss: 0.0013\n",
            "Epoch 98/100\n",
            "108/108 [==============================] - 0s 2ms/step - loss: 0.0015\n",
            "Epoch 99/100\n",
            "108/108 [==============================] - 0s 2ms/step - loss: 0.0013\n",
            "Epoch 100/100\n",
            "108/108 [==============================] - 0s 2ms/step - loss: 0.0013\n"
          ]
        },
        {
          "output_type": "execute_result",
          "data": {
            "text/plain": [
              "<keras.callbacks.History at 0x7fae0c088d10>"
            ]
          },
          "metadata": {},
          "execution_count": 38
        }
      ]
    },
    {
      "cell_type": "code",
      "metadata": {
        "id": "L98J7OwoRJCA"
      },
      "source": [
        "test_predict=model.predict(test_x)\n",
        "test_predict=sc.inverse_transform(test_predict).ravel()\n",
        "\n",
        "train_predict=model.predict(train_x)\n",
        "train_predict=sc.inverse_transform(train_predict).ravel()\n",
        "\n",
        "test_true=sc.inverse_transform([test_y]).ravel()\n",
        "train_true=sc.inverse_transform([train_y]).ravel()"
      ],
      "execution_count": 39,
      "outputs": []
    },
    {
      "cell_type": "code",
      "metadata": {
        "colab": {
          "base_uri": "https://localhost:8080/",
          "height": 268
        },
        "id": "1o5chVK2RsYJ",
        "outputId": "75016fe2-82f7-4b18-9a71-50a78f2161d4"
      },
      "source": [
        "plt.plot(train_true)\n",
        "plt.plot(train_predict)\n",
        "plt.show()"
      ],
      "execution_count": 42,
      "outputs": [
        {
          "output_type": "display_data",
          "data": {
            "image/png": "[encoded data removed]",
            "text/plain": [
              "<Figure size 432x288 with 1 Axes>"
            ]
          },
          "metadata": {}
        }
      ]
    },
    {
      "cell_type": "code",
      "metadata": {
        "colab": {
          "base_uri": "https://localhost:8080/"
        },
        "id": "QKpg6tspSoy5",
        "outputId": "c8fac7f5-2fcf-448c-c9de-0342e3bdad68"
      },
      "source": [
        "test_true.shape"
      ],
      "execution_count": 43,
      "outputs": [
        {
          "output_type": "execute_result",
          "data": {
            "text/plain": [
              "(12,)"
            ]
          },
          "metadata": {},
          "execution_count": 43
        }
      ]
    },
    {
      "cell_type": "code",
      "metadata": {
        "colab": {
          "base_uri": "https://localhost:8080/"
        },
        "id": "Cd5aH0-DZwMn",
        "outputId": "acae3aa2-90de-42b7-85c0-81934c7dbff7"
      },
      "source": [
        "data.Month[len(data)-12:].values\n",
        "test_predict"
      ],
      "execution_count": 51,
      "outputs": [
        {
          "output_type": "execute_result",
          "data": {
            "text/plain": [
              "array([368.64792, 355.6255 , 370.1397 , 365.81088, 385.36554, 413.51025,\n",
              "       478.8108 , 487.56342, 458.0354 , 377.64468, 349.57184, 351.7082 ],\n",
              "      dtype=float32)"
            ]
          },
          "metadata": {},
          "execution_count": 51
        }
      ]
    },
    {
      "cell_type": "code",
      "metadata": {
        "colab": {
          "base_uri": "https://localhost:8080/",
          "height": 542
        },
        "id": "haMHznFaRxBR",
        "outputId": "65ca4072-00b3-46f4-a41b-271eb5587a86"
      },
      "source": [
        "import plotly.express as px\n",
        "import plotly.graph_objects as go\n",
        "\n",
        "fig=go.Figure()\n",
        "\n",
        "# fig.add_trace(go.Scatter(\n",
        "#     x=data.Month[len(data)-12:].values,\n",
        "#     y=test_predict,\n",
        "#     name=\"predicted\"\n",
        "# ))\n",
        "\n",
        "# fig.add_trace(go.Scatter(\n",
        "#     x=data.Month[len(data)-12:].values,\n",
        "#     y=test_true,\n",
        "#     name=\"original\"\n",
        "# ))\n",
        "fig.add_trace(go.Scatter(\n",
        "    x=data.Month[len(data)-12:].values,\n",
        "    y=train_predict,\n",
        "    name=\"predicted\"\n",
        "))\n",
        "\n",
        "fig.add_trace(go.Scatter(\n",
        "    x=data.Month[len(data)-12:].values,\n",
        "    y=train_true,\n",
        "    name=\"original\"\n",
        "))\n",
        "\n",
        "fig.update_layout(\n",
        "    title='test_true vs test_predict',\n",
        "    xaxis_title='Date',\n",
        "    yaxis_title='Data'\n",
        ")\n"
      ],
      "execution_count": 53,
      "outputs": [
        {
          "output_type": "display_data",
          "data": {
            "text/html": [
              "<html>\n",
              "<head><meta charset=\"utf-8\" /></head>\n",
              "<body>\n",
              "    <div>\n",
              "            <script src=\"https://cdnjs.cloudflare.com/ajax/libs/mathjax/2.7.5/MathJax.js?config=TeX-AMS-MML_SVG\"></script><script type=\"text/javascript\">if (window.MathJax) {MathJax.Hub.Config({SVG: {font: \"STIX-Web\"}});}</script>\n",
              "                <script type=\"text/javascript\">window.PlotlyConfig = {MathJaxConfig: 'local'};</script>\n",
              "        <script src=\"https://cdn.plot.ly/plotly-latest.min.js\"></script>    \n",
              "            <div id=\"97927f45-19f6-431e-a3c6-f5b3ab14e9fa\" class=\"plotly-graph-div\" style=\"height:525px; width:100%;\"></div>\n",
              "            <script type=\"text/javascript\">\n",
              "                \n",
              "                    window.PLOTLYENV=window.PLOTLYENV || {};\n",
              "                    \n",
              "                if (document.getElementById(\"97927f45-19f6-431e-a3c6-f5b3ab14e9fa\")) {\n",
              "                    Plotly.newPlot(\n",
              "                        '97927f45-19f6-431e-a3c6-f5b3ab14e9fa',\n",
              "                        [{\"name\": \"predicted\", \"type\": \"scatter\", \"x\": [\"1960-01\", \"1960-02\", \"1960-03\", \"1960-04\", \"1960-05\", \"1960-06\", \"1960-07\", \"1960-08\", \"1960-09\", \"1960-10\", \"1960-11\", \"1960-12\"], \"y\": [138.81671142578125, 141.94329833984375, 143.04010009765625, 145.14906311035156, 138.98046875, 143.34715270996094, 157.81430053710938, 170.6848602294922, 164.13818359375, 154.43902587890625, 132.14306640625, 133.35743713378906, 153.49461364746094, 162.27394104003906, 160.3538055419922, 161.3467559814453, 153.82894897460938, 173.4938507080078, 188.06712341308594, 190.53414916992188, 184.10992431640625, 170.9918212890625, 154.6096649169922, 153.2359161376953, 178.1653594970703, 181.17623901367188, 190.06629943847656, 182.41139221191406, 182.9149932861328, 198.26150512695312, 223.47866821289062, 224.21316528320312, 213.5774688720703, 190.31784057617188, 176.8887481689453, 185.7069854736328, 203.7640838623047, 209.530517578125, 203.68353271484375, 212.17555236816406, 220.68873596191406, 249.35116577148438, 258.61468505859375, 258.5688781738281, 247.86618041992188, 219.68914794921875, 202.23507690429688, 200.32838439941406, 220.4080047607422, 228.6042938232422, 233.32763671875, 246.214599609375, 247.45660400390625, 275.1554260253906, 300.66583251953125, 298.0487060546875, 272.4820556640625, 230.75865173339844, 216.6419219970703, 217.9648895263672, 237.3846893310547, 238.88772583007812, 253.58457946777344, 252.21115112304688, 266.91973876953125, 315.7449035644531, 344.6033630371094, 336.4202880859375, 308.4508972167969, 263.02532958984375, 248.0524139404297, 259.0578918457031, 279.3373718261719, 277.8675537109375, 296.07757568359375, 298.5066223144531, 302.3341979980469, 371.89129638671875, 405.95550537109375, 391.6741943359375, 361.14654541015625, 301.02288818359375, 280.364501953125, 300.7584533691406, 311.5627746582031, 311.5858154296875, 331.7965393066406, 337.0149841308594, 342.9343566894531, 408.3350830078125, 446.3656005859375, 437.0895690917969, 403.1553955078125, 330.19036865234375, 306.3755798339844, 322.4632873535156, 332.6675109863281, 326.46270751953125, 350.8119812011719, 347.50335693359375, 349.91888427734375, 414.3948059082031, 469.9892883300781, 472.7617492675781, 439.2669982910156, 344.5071105957031, 322.01580810546875, 334.4678955078125]}, {\"name\": \"original\", \"type\": \"scatter\", \"x\": [\"1960-01\", \"1960-02\", \"1960-03\", \"1960-04\", \"1960-05\", \"1960-06\", \"1960-07\", \"1960-08\", \"1960-09\", \"1960-10\", \"1960-11\", \"1960-12\"], \"y\": [115.00000000000001, 125.99999999999999, 141.0, 135.0, 125.00000000000001, 149.0, 170.0, 170.0, 158.0, 133.0, 114.0, 140.0, 145.0, 150.0, 178.0, 163.0, 172.0, 178.0, 199.0, 199.0, 184.0, 162.0, 146.0, 166.0, 171.0, 180.0, 193.0, 181.0, 183.0, 218.0, 230.00000000000003, 241.99999999999997, 209.0, 191.0, 172.0, 194.0, 196.0, 196.0, 236.0, 235.00000000000003, 229.0, 243.0, 264.0, 272.0, 236.99999999999997, 211.0, 180.0, 201.0, 204.0, 188.0, 235.00000000000003, 226.99999999999997, 234.0, 264.0, 302.0, 293.0, 259.0, 229.0, 203.0, 229.0, 241.99999999999997, 233.0, 267.0, 269.0, 270.0, 315.0, 364.00000000000006, 347.0, 312.0, 274.0, 236.99999999999997, 278.0, 284.0, 277.0, 317.0, 313.00000000000006, 318.00000000000006, 374.00000000000006, 413.0, 405.0, 355.0, 306.0, 271.0, 306.0, 315.0, 301.0, 356.0, 348.00000000000006, 355.0, 422.0, 465.00000000000006, 467.0, 403.99999999999994, 347.0, 305.0, 336.0, 340.0, 318.00000000000006, 362.0, 348.00000000000006, 363.00000000000006, 435.00000000000006, 491.0, 505.00000000000006, 403.99999999999994, 359.00000000000006, 310.0, 337.0]}],\n",
              "                        {\"template\": {\"data\": {\"bar\": [{\"error_x\": {\"color\": \"#2a3f5f\"}, \"error_y\": {\"color\": \"#2a3f5f\"}, \"marker\": {\"line\": {\"color\": \"#E5ECF6\", \"width\": 0.5}}, \"type\": \"bar\"}], \"barpolar\": [{\"marker\": {\"line\": {\"color\": \"#E5ECF6\", \"width\": 0.5}}, \"type\": \"barpolar\"}], \"carpet\": [{\"aaxis\": {\"endlinecolor\": \"#2a3f5f\", \"gridcolor\": \"white\", \"linecolor\": \"white\", \"minorgridcolor\": \"white\", \"startlinecolor\": \"#2a3f5f\"}, \"baxis\": {\"endlinecolor\": \"#2a3f5f\", \"gridcolor\": \"white\", \"linecolor\": \"white\", \"minorgridcolor\": \"white\", \"startlinecolor\": \"#2a3f5f\"}, \"type\": \"carpet\"}], \"choropleth\": [{\"colorbar\": {\"outlinewidth\": 0, \"ticks\": \"\"}, \"type\": \"choropleth\"}], \"contour\": [{\"colorbar\": {\"outlinewidth\": 0, \"ticks\": \"\"}, \"colorscale\": [[0.0, \"#0d0887\"], [0.1111111111111111, \"#46039f\"], [0.2222222222222222, \"#7201a8\"], [0.3333333333333333, \"#9c179e\"], [0.4444444444444444, \"#bd3786\"], [0.5555555555555556, \"#d8576b\"], [0.6666666666666666, \"#ed7953\"], [0.7777777777777778, \"#fb9f3a\"], [0.8888888888888888, \"#fdca26\"], [1.0, \"#f0f921\"]], \"type\": \"contour\"}], \"contourcarpet\": [{\"colorbar\": {\"outlinewidth\": 0, \"ticks\": \"\"}, \"type\": \"contourcarpet\"}], \"heatmap\": [{\"colorbar\": {\"outlinewidth\": 0, \"ticks\": \"\"}, \"colorscale\": [[0.0, \"#0d0887\"], [0.1111111111111111, \"#46039f\"], [0.2222222222222222, \"#7201a8\"], [0.3333333333333333, \"#9c179e\"], [0.4444444444444444, \"#bd3786\"], [0.5555555555555556, \"#d8576b\"], [0.6666666666666666, \"#ed7953\"], [0.7777777777777778, \"#fb9f3a\"], [0.8888888888888888, \"#fdca26\"], [1.0, \"#f0f921\"]], \"type\": \"heatmap\"}], \"heatmapgl\": [{\"colorbar\": {\"outlinewidth\": 0, \"ticks\": \"\"}, \"colorscale\": [[0.0, \"#0d0887\"], [0.1111111111111111, \"#46039f\"], [0.2222222222222222, \"#7201a8\"], [0.3333333333333333, \"#9c179e\"], [0.4444444444444444, \"#bd3786\"], [0.5555555555555556, \"#d8576b\"], [0.6666666666666666, \"#ed7953\"], [0.7777777777777778, \"#fb9f3a\"], [0.8888888888888888, \"#fdca26\"], [1.0, \"#f0f921\"]], \"type\": \"heatmapgl\"}], \"histogram\": [{\"marker\": {\"colorbar\": {\"outlinewidth\": 0, \"ticks\": \"\"}}, \"type\": \"histogram\"}], \"histogram2d\": [{\"colorbar\": {\"outlinewidth\": 0, \"ticks\": \"\"}, \"colorscale\": [[0.0, \"#0d0887\"], [0.1111111111111111, \"#46039f\"], [0.2222222222222222, \"#7201a8\"], [0.3333333333333333, \"#9c179e\"], [0.4444444444444444, \"#bd3786\"], [0.5555555555555556, \"#d8576b\"], [0.6666666666666666, \"#ed7953\"], [0.7777777777777778, \"#fb9f3a\"], [0.8888888888888888, \"#fdca26\"], [1.0, \"#f0f921\"]], \"type\": \"histogram2d\"}], \"histogram2dcontour\": [{\"colorbar\": {\"outlinewidth\": 0, \"ticks\": \"\"}, \"colorscale\": [[0.0, \"#0d0887\"], [0.1111111111111111, \"#46039f\"], [0.2222222222222222, \"#7201a8\"], [0.3333333333333333, \"#9c179e\"], [0.4444444444444444, \"#bd3786\"], [0.5555555555555556, \"#d8576b\"], [0.6666666666666666, \"#ed7953\"], [0.7777777777777778, \"#fb9f3a\"], [0.8888888888888888, \"#fdca26\"], [1.0, \"#f0f921\"]], \"type\": \"histogram2dcontour\"}], \"mesh3d\": [{\"colorbar\": {\"outlinewidth\": 0, \"ticks\": \"\"}, \"type\": \"mesh3d\"}], \"parcoords\": [{\"line\": {\"colorbar\": {\"outlinewidth\": 0, \"ticks\": \"\"}}, \"type\": \"parcoords\"}], \"pie\": [{\"automargin\": true, \"type\": \"pie\"}], \"scatter\": [{\"marker\": {\"colorbar\": {\"outlinewidth\": 0, \"ticks\": \"\"}}, \"type\": \"scatter\"}], \"scatter3d\": [{\"line\": {\"colorbar\": {\"outlinewidth\": 0, \"ticks\": \"\"}}, \"marker\": {\"colorbar\": {\"outlinewidth\": 0, \"ticks\": \"\"}}, \"type\": \"scatter3d\"}], \"scattercarpet\": [{\"marker\": {\"colorbar\": {\"outlinewidth\": 0, \"ticks\": \"\"}}, \"type\": \"scattercarpet\"}], \"scattergeo\": [{\"marker\": {\"colorbar\": {\"outlinewidth\": 0, \"ticks\": \"\"}}, \"type\": \"scattergeo\"}], \"scattergl\": [{\"marker\": {\"colorbar\": {\"outlinewidth\": 0, \"ticks\": \"\"}}, \"type\": \"scattergl\"}], \"scattermapbox\": [{\"marker\": {\"colorbar\": {\"outlinewidth\": 0, \"ticks\": \"\"}}, \"type\": \"scattermapbox\"}], \"scatterpolar\": [{\"marker\": {\"colorbar\": {\"outlinewidth\": 0, \"ticks\": \"\"}}, \"type\": \"scatterpolar\"}], \"scatterpolargl\": [{\"marker\": {\"colorbar\": {\"outlinewidth\": 0, \"ticks\": \"\"}}, \"type\": \"scatterpolargl\"}], \"scatterternary\": [{\"marker\": {\"colorbar\": {\"outlinewidth\": 0, \"ticks\": \"\"}}, \"type\": \"scatterternary\"}], \"surface\": [{\"colorbar\": {\"outlinewidth\": 0, \"ticks\": \"\"}, \"colorscale\": [[0.0, \"#0d0887\"], [0.1111111111111111, \"#46039f\"], [0.2222222222222222, \"#7201a8\"], [0.3333333333333333, \"#9c179e\"], [0.4444444444444444, \"#bd3786\"], [0.5555555555555556, \"#d8576b\"], [0.6666666666666666, \"#ed7953\"], [0.7777777777777778, \"#fb9f3a\"], [0.8888888888888888, \"#fdca26\"], [1.0, \"#f0f921\"]], \"type\": \"surface\"}], \"table\": [{\"cells\": {\"fill\": {\"color\": \"#EBF0F8\"}, \"line\": {\"color\": \"white\"}}, \"header\": {\"fill\": {\"color\": \"#C8D4E3\"}, \"line\": {\"color\": \"white\"}}, \"type\": \"table\"}]}, \"layout\": {\"annotationdefaults\": {\"arrowcolor\": \"#2a3f5f\", \"arrowhead\": 0, \"arrowwidth\": 1}, \"coloraxis\": {\"colorbar\": {\"outlinewidth\": 0, \"ticks\": \"\"}}, \"colorscale\": {\"diverging\": [[0, \"#8e0152\"], [0.1, \"#c51b7d\"], [0.2, \"#de77ae\"], [0.3, \"#f1b6da\"], [0.4, \"#fde0ef\"], [0.5, \"#f7f7f7\"], [0.6, \"#e6f5d0\"], [0.7, \"#b8e186\"], [0.8, \"#7fbc41\"], [0.9, \"#4d9221\"], [1, \"#276419\"]], \"sequential\": [[0.0, \"#0d0887\"], [0.1111111111111111, \"#46039f\"], [0.2222222222222222, \"#7201a8\"], [0.3333333333333333, \"#9c179e\"], [0.4444444444444444, \"#bd3786\"], [0.5555555555555556, \"#d8576b\"], [0.6666666666666666, \"#ed7953\"], [0.7777777777777778, \"#fb9f3a\"], [0.8888888888888888, \"#fdca26\"], [1.0, \"#f0f921\"]], \"sequentialminus\": [[0.0, \"#0d0887\"], [0.1111111111111111, \"#46039f\"], [0.2222222222222222, \"#7201a8\"], [0.3333333333333333, \"#9c179e\"], [0.4444444444444444, \"#bd3786\"], [0.5555555555555556, \"#d8576b\"], [0.6666666666666666, \"#ed7953\"], [0.7777777777777778, \"#fb9f3a\"], [0.8888888888888888, \"#fdca26\"], [1.0, \"#f0f921\"]]}, \"colorway\": [\"#636efa\", \"#EF553B\", \"#00cc96\", \"#ab63fa\", \"#FFA15A\", \"#19d3f3\", \"#FF6692\", \"#B6E880\", \"#FF97FF\", \"#FECB52\"], \"font\": {\"color\": \"#2a3f5f\"}, \"geo\": {\"bgcolor\": \"white\", \"lakecolor\": \"white\", \"landcolor\": \"#E5ECF6\", \"showlakes\": true, \"showland\": true, \"subunitcolor\": \"white\"}, \"hoverlabel\": {\"align\": \"left\"}, \"hovermode\": \"closest\", \"mapbox\": {\"style\": \"light\"}, \"paper_bgcolor\": \"white\", \"plot_bgcolor\": \"#E5ECF6\", \"polar\": {\"angularaxis\": {\"gridcolor\": \"white\", \"linecolor\": \"white\", \"ticks\": \"\"}, \"bgcolor\": \"#E5ECF6\", \"radialaxis\": {\"gridcolor\": \"white\", \"linecolor\": \"white\", \"ticks\": \"\"}}, \"scene\": {\"xaxis\": {\"backgroundcolor\": \"#E5ECF6\", \"gridcolor\": \"white\", \"gridwidth\": 2, \"linecolor\": \"white\", \"showbackground\": true, \"ticks\": \"\", \"zerolinecolor\": \"white\"}, \"yaxis\": {\"backgroundcolor\": \"#E5ECF6\", \"gridcolor\": \"white\", \"gridwidth\": 2, \"linecolor\": \"white\", \"showbackground\": true, \"ticks\": \"\", \"zerolinecolor\": \"white\"}, \"zaxis\": {\"backgroundcolor\": \"#E5ECF6\", \"gridcolor\": \"white\", \"gridwidth\": 2, \"linecolor\": \"white\", \"showbackground\": true, \"ticks\": \"\", \"zerolinecolor\": \"white\"}}, \"shapedefaults\": {\"line\": {\"color\": \"#2a3f5f\"}}, \"ternary\": {\"aaxis\": {\"gridcolor\": \"white\", \"linecolor\": \"white\", \"ticks\": \"\"}, \"baxis\": {\"gridcolor\": \"white\", \"linecolor\": \"white\", \"ticks\": \"\"}, \"bgcolor\": \"#E5ECF6\", \"caxis\": {\"gridcolor\": \"white\", \"linecolor\": \"white\", \"ticks\": \"\"}}, \"title\": {\"x\": 0.05}, \"xaxis\": {\"automargin\": true, \"gridcolor\": \"white\", \"linecolor\": \"white\", \"ticks\": \"\", \"title\": {\"standoff\": 15}, \"zerolinecolor\": \"white\", \"zerolinewidth\": 2}, \"yaxis\": {\"automargin\": true, \"gridcolor\": \"white\", \"linecolor\": \"white\", \"ticks\": \"\", \"title\": {\"standoff\": 15}, \"zerolinecolor\": \"white\", \"zerolinewidth\": 2}}}, \"title\": {\"text\": \"test_true vs test_predict\"}, \"xaxis\": {\"title\": {\"text\": \"Date\"}}, \"yaxis\": {\"title\": {\"text\": \"Data\"}}},\n",
              "                        {\"responsive\": true}\n",
              "                    ).then(function(){\n",
              "                            \n",
              "var gd = document.getElementById('97927f45-19f6-431e-a3c6-f5b3ab14e9fa');\n",
              "var x = new MutationObserver(function (mutations, observer) {{\n",
              "        var display = window.getComputedStyle(gd).display;\n",
              "        if (!display || display === 'none') {{\n",
              "            console.log([gd, 'removed!']);\n",
              "            Plotly.purge(gd);\n",
              "            observer.disconnect();\n",
              "        }}\n",
              "}});\n",
              "\n",
              "// Listen for the removal of the full notebook cells\n",
              "var notebookContainer = gd.closest('#notebook-container');\n",
              "if (notebookContainer) {{\n",
              "    x.observe(notebookContainer, {childList: true});\n",
              "}}\n",
              "\n",
              "// Listen for the clearing of the current output cell\n",
              "var outputEl = gd.closest('.output');\n",
              "if (outputEl) {{\n",
              "    x.observe(outputEl, {childList: true});\n",
              "}}\n",
              "\n",
              "                        })\n",
              "                };\n",
              "                \n",
              "            </script>\n",
              "        </div>\n",
              "</body>\n",
              "</html>"
            ]
          },
          "metadata": {}
        }
      ]
    },
    {
      "cell_type": "code",
      "metadata": {
        "id": "E6GWfOz5Tc9n"
      },
      "source": [
        ""
      ],
      "execution_count": null,
      "outputs": []
    }
  ]
}